{
 "cells": [
  {
   "cell_type": "markdown",
   "id": "a364d5bd",
   "metadata": {},
   "source": [
    "## <span style=\"color:#3182bd\"><center>**Dividir, Extraer texto, Renombrar y Encriptar PDF**</center></span>"
   ]
  },
  {
   "cell_type": "markdown",
   "id": "27945cb6",
   "metadata": {},
   "source": [
    "##  **Introducción**\n",
    "\n",
    "Este código divide un archivo en el número de hojas que le indiquemos, extrae la información con los datos que le ordenemos para que encripte y renombre cada PDF dividido. Importante todos los archivos deben estar en formato PDF. \n",
    "\n",
    "${}$"
   ]
  },
  {
   "cell_type": "code",
   "execution_count": 1,
   "id": "4ca0ca6c",
   "metadata": {},
   "outputs": [],
   "source": [
    "# se deben tener instaladios los siguientes paquetes\n",
    "# pip install os\n",
    "# pip install openpyxl\n",
    "# pip install pandas\n",
    "# pip install PyMuPDF\n",
    "# pip install PyPDF2"
   ]
  },
  {
   "cell_type": "markdown",
   "id": "dcf62d5a",
   "metadata": {},
   "source": [
    "## Dividir PDF\n",
    "\n",
    "El siguiente código divide un archivo en formato PDF en grupos de página que se le indiquen y les coloca nombres ascendentes comenzando del número 1.\n",
    "\n",
    "1. Modificar la ruta **archivo_pdf_entrada** por la ruta del Pdf a dividir. \n",
    "\n",
    "2. Creamos una carpeta donde vamos a dejar los pdf ya divididos y modificamos la **ruta-salida**.\n",
    "\n",
    "3. Modificamos el valor de **paginas_por_grupo** colocando cada cuantas hojas queremos que se divida el archivo.\n"
   ]
  },
  {
   "cell_type": "code",
   "execution_count": 38,
   "id": "700aba71",
   "metadata": {},
   "outputs": [
    {
     "name": "stdout",
     "output_type": "stream",
     "text": [
      "Archivos divididos\n"
     ]
    }
   ],
   "source": [
    "import PyPDF2\n",
    "import os\n",
    "\n",
    "archivo_pdf_entrada = \"ruta\"\n",
    "ruta_salida = \"ruta\"\n",
    "paginas_por_grupo = 3\n",
    "\n",
    "\n",
    "with open(archivo_pdf_entrada, \"rb\") as archivo:\n",
    "    pdf = PyPDF2.PdfReader(archivo)\n",
    "    num_paginas = len(pdf.pages)\n",
    "\n",
    "    for grupo_numero in range(0, num_paginas, paginas_por_grupo):\n",
    "        nuevo_pdf = PyPDF2.PdfWriter()\n",
    "\n",
    "        for pagina_numero in range(grupo_numero, min(grupo_numero + paginas_por_grupo, num_paginas)):\n",
    "            pagina = pdf.pages[pagina_numero]\n",
    "            nuevo_pdf.add_page(pagina)\n",
    "\n",
    "        nombre_archivo_salida = f\"{grupo_numero // paginas_por_grupo + 1}.pdf\" \n",
    "        ruta_completa_salida = os.path.join(ruta_salida, nombre_archivo_salida)\n",
    "\n",
    "        with open(ruta_completa_salida, \"wb\") as nuevo_archivo:\n",
    "            nuevo_pdf.write(nuevo_archivo)\n",
    "\n",
    "print(\"Archivos divididos\")\n"
   ]
  },
  {
   "cell_type": "raw",
   "id": "c3171157-e309-4cd5-ad40-3c3bd63abcfb",
   "metadata": {},
   "source": []
  },
  {
   "cell_type": "markdown",
   "id": "ccd2e9c5-1fa8-47a4-b057-6fec1f3da838",
   "metadata": {},
   "source": [
    "## Dividir varios pdf \n",
    "\n",
    "El siguiente código selecciona todos los archivos que se encuentran en una carpeta en formato PDF, extrae la página que le indiquemos y lo guarda en una ruta diferente.\n",
    "\n",
    "1. Modificamos la ruta **directorio_entrada** por la dirección de la carpeta donde se encuentran los formularios.\n",
    "\n",
    "2. Modificamos la ruta **directorio_salida** por la dirección de la carpeta donde queremos dejar los PDF extraidos.\n",
    "\n",
    "3. Modificamos **pagina_a_extraer** con el número de la página que queremos extraer del PDF.\n"
   ]
  },
  {
   "cell_type": "code",
   "execution_count": 2,
   "id": "ec1ff05c-6695-46c3-80b6-69506a3a0a32",
   "metadata": {
    "tags": []
   },
   "outputs": [],
   "source": [
    "import PyPDF2\n",
    "import os\n",
    "\n",
    "\n",
    "directorio_entrada = \"ruta\"\n",
    "\n",
    "directorio_salida = \"ruta\"\n",
    "\n",
    "pagina_a_extraer = 1  \n",
    "\n",
    "\n",
    "if not os.path.exists(directorio_salida):\n",
    "    os.makedirs(directorio_salida)\n",
    "\n",
    "\n",
    "for archivo_pdf_entrada in os.listdir(directorio_entrada):\n",
    "    if archivo_pdf_entrada.endswith(\".pdf\"):\n",
    "        \n",
    "        ruta_pdf_entrada = os.path.join(directorio_entrada, archivo_pdf_entrada)\n",
    "\n",
    "        with open(ruta_pdf_entrada, \"rb\") as archivo:\n",
    "            pdf = PyPDF2.PdfReader(archivo)\n",
    "\n",
    "            if pagina_a_extraer <= len(pdf.pages):\n",
    "                nuevo_pdf = PyPDF2.PdfWriter()\n",
    "                pagina = pdf.pages[pagina_a_extraer - 1]  \n",
    "                nuevo_pdf.add_page(pagina)\n",
    "\n",
    "                \n",
    "                nombre_archivo_salida = f\"{pagina_a_extraer}_{archivo_pdf_entrada}\"\n",
    "                ruta_completa_salida = os.path.join(directorio_salida, nombre_archivo_salida)\n",
    "\n",
    "                with open(ruta_completa_salida, \"wb\") as nuevo_archivo:\n",
    "                    nuevo_pdf.write(nuevo_archivo)\n",
    "\n",
    "print(\"Archivos divididos y renombrados\")\n"
   ]
  },
  {
   "cell_type": "markdown",
   "id": "20489569",
   "metadata": {},
   "source": [
    "## Extraer Información del PDF\n",
    "\n",
    "El siguiente código extrae la información que le indiquemos en las coordenadas, posteriormente realiza un proceso de limpieza a los datos, para dejar la información en un dataframe y  guardar en un archivo de Excel la información extraída.\n",
    "\n",
    "1. En la **carpeta _pdf** colocar la ruta de los PDF a los cuales se le va a extraer la información. \n",
    "\n",
    "2. Crear un archivo de Excel y colocar la ruta en **nombre_archivo**"
   ]
  },
  {
   "cell_type": "code",
   "execution_count": 12,
   "id": "0ec2b793-1ee2-43da-91a9-8f173ef6b421",
   "metadata": {
    "tags": []
   },
   "outputs": [
    {
     "data": {
      "text/html": [
       "<div>\n",
       "<style scoped>\n",
       "    .dataframe tbody tr th:only-of-type {\n",
       "        vertical-align: middle;\n",
       "    }\n",
       "\n",
       "    .dataframe tbody tr th {\n",
       "        vertical-align: top;\n",
       "    }\n",
       "\n",
       "    .dataframe thead th {\n",
       "        text-align: right;\n",
       "    }\n",
       "</style>\n",
       "<table border=\"1\" class=\"dataframe\">\n",
       "  <thead>\n",
       "    <tr style=\"text-align: right;\">\n",
       "      <th></th>\n",
       "      <th>poliza</th>\n",
       "      <th>nombre</th>\n",
       "      <th>id</th>\n",
       "      <th>empresa</th>\n",
       "      <th>inicio_vigencia</th>\n",
       "      <th>fin_vigencia</th>\n",
       "      <th>valor_asegurado</th>\n",
       "      <th>nombre_Beneficiario_1</th>\n",
       "      <th>direccion</th>\n",
       "      <th>ciudad</th>\n",
       "      <th>departamento</th>\n",
       "      <th>pais</th>\n",
       "    </tr>\n",
       "  </thead>\n",
       "  <tbody>\n",
       "    <tr>\n",
       "      <th>0</th>\n",
       "      <td>1003960</td>\n",
       "      <td>LOPEZ ROZO GEIMNIR YAZMIN</td>\n",
       "      <td>53133039</td>\n",
       "      <td>UNIVERSIDAD</td>\n",
       "      <td>01/MARZO/2023</td>\n",
       "      <td>01/MARZO/2024</td>\n",
       "      <td>6,056,84000</td>\n",
       "      <td>LOPEZ ROZO GEIMNIR YAZMIN</td>\n",
       "      <td>CARRERA 69 BIS NO  3A 06</td>\n",
       "      <td>BOGOTA</td>\n",
       "      <td>BOGOTA</td>\n",
       "      <td>COLOMBIA</td>\n",
       "    </tr>\n",
       "    <tr>\n",
       "      <th>1</th>\n",
       "      <td>1003960</td>\n",
       "      <td>ACOSTA GONZALEZ LUIS ALEJANDRO</td>\n",
       "      <td>79797489</td>\n",
       "      <td>UNIVERSIDAD</td>\n",
       "      <td>01/MARZO/2023</td>\n",
       "      <td>01/MARZO/2024</td>\n",
       "      <td>6,056,84000</td>\n",
       "      <td>ACOSTA GONZALEZ LUIS ALEJANDRO</td>\n",
       "      <td>CL 3 3E 116 AP 501 TO 10</td>\n",
       "      <td>CAJICA</td>\n",
       "      <td>CUNDINAMARCA</td>\n",
       "      <td>COLOMBIA</td>\n",
       "    </tr>\n",
       "  </tbody>\n",
       "</table>\n",
       "</div>"
      ],
      "text/plain": [
       "    poliza                          nombre        id      empresa  \\\n",
       "0  1003960       LOPEZ ROZO GEIMNIR YAZMIN  53133039  UNIVERSIDAD   \n",
       "1  1003960  ACOSTA GONZALEZ LUIS ALEJANDRO  79797489  UNIVERSIDAD   \n",
       "\n",
       "  inicio_vigencia   fin_vigencia valor_asegurado  \\\n",
       "0   01/MARZO/2023  01/MARZO/2024     6,056,84000   \n",
       "1   01/MARZO/2023  01/MARZO/2024     6,056,84000   \n",
       "\n",
       "            nombre_Beneficiario_1                 direccion  ciudad  \\\n",
       "0       LOPEZ ROZO GEIMNIR YAZMIN  CARRERA 69 BIS NO  3A 06  BOGOTA   \n",
       "1  ACOSTA GONZALEZ LUIS ALEJANDRO  CL 3 3E 116 AP 501 TO 10  CAJICA   \n",
       "\n",
       "   departamento      pais  \n",
       "0        BOGOTA  COLOMBIA  \n",
       "1  CUNDINAMARCA  COLOMBIA  "
      ]
     },
     "execution_count": 12,
     "metadata": {},
     "output_type": "execute_result"
    }
   ],
   "source": [
    "import fitz\n",
    "import pandas as pd\n",
    "import os\n",
    "import re\n",
    "\n",
    "carpeta_pdf = \"ruta\"\n",
    "nombre_archivo = \"ruta\"\n",
    "nombre_hoja = \"Hoja1\"\n",
    "\n",
    "coordenadas = [\n",
    "    {\"nombre\": \"poliza\", \"coordenada\": (45, 79, 72, 87)},\n",
    "    {\"nombre\": \"nombre\", \"coordenada\": (98, 141, 227, 149)},       \n",
    "    {\"nombre\": \"id\", \"coordenada\": (494, 128, 535, 137)}, \n",
    "    {\"nombre\": \"empresa\", \"coordenada\": (99, 100, 147, 108)},    \n",
    "    {\"nombre\": \"inicio_vigencia\", \"coordenada\": (146, 181, 195, 188)},\n",
    "    {\"nombre\": \"fin_vigencia\", \"coordenada\": (242, 181, 291, 188)},\n",
    "    {\"nombre\": \"valor_asegurado\", \"coordenada\": (380, 282, 417, 289)},\n",
    "    {\"nombre\": \"nombre_Beneficiario_1\", \"coordenada\": (98, 141, 227, 149)},\n",
    "    {\"nombre\": \"direccion\", \"coordenada\": (45, 253, 137, 261)},\n",
    "    {\"nombre\": \"ciudad\", \"coordenada\": (226, 253, 256, 261)},\n",
    "    {\"nombre\": \"departamento\", \"coordenada\": (343, 253, 400, 264)},\n",
    "    {\"nombre\": \"pais\", \"coordenada\": (485, 253, 522, 261)}\n",
    "]\n",
    "\n",
    "df_resultado = pd.DataFrame(columns=[item[\"nombre\"] for item in coordenadas])\n",
    "\n",
    "for archivo_pdf in os.listdir(carpeta_pdf):\n",
    "    if archivo_pdf.endswith(\".pdf\"):\n",
    "        \n",
    "        pdf_file = os.path.join(carpeta_pdf, archivo_pdf)\n",
    "        doc = fitz.open(pdf_file)\n",
    "        page_num = 0  \n",
    "\n",
    "        if page_num >= 0 and page_num < doc.page_count:\n",
    "            page = doc[page_num]\n",
    "            tex_coor = {}\n",
    "            \n",
    "            for i, item in enumerate(coordenadas):\n",
    "                nombre = item[\"nombre\"]\n",
    "                x0, y0, x1, y1 = item[\"coordenada\"]\n",
    "                text = page.get_text(\"text\", clip=(x0, y0, x1, y1))\n",
    "                tex_coor[nombre] = [text]\n",
    "            df = pd.DataFrame(tex_coor)\n",
    "            df_resultado = pd.concat([df_resultado, df], ignore_index=True)\n",
    "            doc.close()\n",
    "        else:\n",
    "            print(f\"La página {page_num + 1} no es válida para el PDF: {pdf_file}\")\n",
    "\n",
    "patron = r'[\\n.$]'\n",
    "columnas_a_procesar = [\n",
    "    'poliza', 'nombre', 'id', 'empresa', 'inicio_vigencia', 'fin_vigencia', 'valor_asegurado',\n",
    "    'nombre_Beneficiario_1', \"direccion\",\"ciudad\",\"departamento\",\"pais\"  \n",
    "]\n",
    "for columna in columnas_a_procesar:\n",
    "    df_resultado[columna] = df_resultado[columna].apply(lambda x: re.sub(patron, '', x).rstrip().lstrip())\n",
    "df_resultado.to_excel(nombre_archivo, sheet_name=nombre_hoja, index=False)\n",
    "\n",
    "df_resultado.head()"
   ]
  },
  {
   "cell_type": "markdown",
   "id": "e641854f",
   "metadata": {},
   "source": [
    "## Encriptar y renombrar pdf\n",
    "\n",
    "1. En la **carpeta_origen** se debe colocar la ruta dónde se encuentran los archivos divididos.  \n",
    "2. Crear la **carpeta_destino** y colocar la ruta. \n",
    "3. En **ruta_excel** colocar la ruta del archivo de Excel dónde se encuentran los nombres y las claves de los archivos a renombrar.  "
   ]
  },
  {
   "cell_type": "code",
   "execution_count": 1,
   "id": "84d0be53",
   "metadata": {},
   "outputs": [
    {
     "name": "stdout",
     "output_type": "stream",
     "text": [
      "Docuemntos encriptados con el ID del funcionario y renombrados\n"
     ]
    }
   ],
   "source": [
    "import os\n",
    "import openpyxl\n",
    "import pandas as pd\n",
    "import PyPDF2\n",
    "\n",
    "carpeta_origen = \"ruta\"\n",
    "carpeta_destino = \"ruta\"\n",
    "ruta_excel = \"ruta\"\n",
    "\n",
    "workbook = openpyxl.load_workbook(ruta_excel)\n",
    "hoja_excel = workbook[\"Hoja1\"]\n",
    "df_id = pd.read_excel(ruta_excel)\n",
    "contrasenas = [str(i) for i in df_id[\"id\"]]\n",
    "nombre = [str(i) for i in df_id[\"nombre\"]]\n",
    "\n",
    "archivos_pdf = [archivo for archivo in os.listdir(carpeta_origen) if archivo.endswith(\".pdf\")]\n",
    "\n",
    "for i, archivo_pdf in enumerate(archivos_pdf):\n",
    "    ruta_pdf_entrada = os.path.join(carpeta_origen, archivo_pdf)\n",
    "    ruta_pdf_salida = os.path.join(carpeta_destino, f\"{i+1}_{nombre[i]}.pdf\")\n",
    "  \n",
    "    with open(ruta_pdf_entrada, \"rb\") as archivo_original:\n",
    "        pdf = PyPDF2.PdfReader(archivo_original)\n",
    "        pdf_writer = PyPDF2.PdfWriter()\n",
    "        for pagina_num in range(len(pdf.pages)):\n",
    "            pdf_writer.add_page(pdf.pages[pagina_num])\n",
    "        pdf_writer.encrypt(contrasenas [i])\n",
    "        \n",
    "        with open(ruta_pdf_salida, \"wb\") as archivo_encriptado:\n",
    "            pdf_writer.write(archivo_encriptado)\n",
    "workbook.close()\n",
    "print(\"Docuemntos encriptados con el ID del funcionario y renombrados\")"
   ]
  },
  {
   "cell_type": "markdown",
   "id": "a3a74726",
   "metadata": {},
   "source": [
    "## Solo renombrar \n",
    "\n",
    "Esta función solo funciona para renombrar los archivos que se encuencuentran en formato PDF, no los encripta. Para esto utilizaremos el siguiente código:\n",
    "\n",
    "1.  En **carpeta_origen** colocamos la ruta de la carpeta donde tenemos guardados los archivos PDF que deseamos renombrar.\n",
    "\n",
    "2.  Creamos la carpeta dónde vamos a dejar los archivos PDF renombrados y modificamos la ruta **carpeta_destino**\n",
    "\n",
    "3.  La ruta del Excel dónde tenemos los nombres de los archivos a renombrar la copiamos en **ruta_excel**\n"
   ]
  },
  {
   "cell_type": "code",
   "execution_count": 1,
   "id": "9a3eab8a",
   "metadata": {},
   "outputs": [
    {
     "ename": "InvalidFileException",
     "evalue": "openpyxl does not support  file format, please check you can open it with Excel first. Supported formats are: .xlsx,.xlsm,.xltx,.xltm",
     "output_type": "error",
     "traceback": [
      "\u001b[1;31m---------------------------------------------------------------------------\u001b[0m",
      "\u001b[1;31mInvalidFileException\u001b[0m                      Traceback (most recent call last)",
      "Cell \u001b[1;32mIn[1], line 9\u001b[0m\n\u001b[0;32m      6\u001b[0m carpeta_destino \u001b[38;5;241m=\u001b[39m \u001b[38;5;124m\"\u001b[39m\u001b[38;5;124mruta\u001b[39m\u001b[38;5;124m\"\u001b[39m\n\u001b[0;32m      7\u001b[0m ruta_excel \u001b[38;5;241m=\u001b[39m \u001b[38;5;124m\"\u001b[39m\u001b[38;5;124mruta\u001b[39m\u001b[38;5;124m\"\u001b[39m\n\u001b[1;32m----> 9\u001b[0m workbook \u001b[38;5;241m=\u001b[39m openpyxl\u001b[38;5;241m.\u001b[39mload_workbook(ruta_excel)\n\u001b[0;32m     10\u001b[0m hoja_excel \u001b[38;5;241m=\u001b[39m workbook[\u001b[38;5;124m\"\u001b[39m\u001b[38;5;124mHoja1\u001b[39m\u001b[38;5;124m\"\u001b[39m]\n\u001b[0;32m     12\u001b[0m df_id \u001b[38;5;241m=\u001b[39m pd\u001b[38;5;241m.\u001b[39mread_excel(ruta_excel)\n",
      "File \u001b[1;32m~\\anaconda3\\Lib\\site-packages\\openpyxl\\reader\\excel.py:315\u001b[0m, in \u001b[0;36mload_workbook\u001b[1;34m(filename, read_only, keep_vba, data_only, keep_links)\u001b[0m\n\u001b[0;32m    288\u001b[0m \u001b[38;5;28;01mdef\u001b[39;00m \u001b[38;5;21mload_workbook\u001b[39m(filename, read_only\u001b[38;5;241m=\u001b[39m\u001b[38;5;28;01mFalse\u001b[39;00m, keep_vba\u001b[38;5;241m=\u001b[39mKEEP_VBA,\n\u001b[0;32m    289\u001b[0m                   data_only\u001b[38;5;241m=\u001b[39m\u001b[38;5;28;01mFalse\u001b[39;00m, keep_links\u001b[38;5;241m=\u001b[39m\u001b[38;5;28;01mTrue\u001b[39;00m):\n\u001b[0;32m    290\u001b[0m \u001b[38;5;250m    \u001b[39m\u001b[38;5;124;03m\"\"\"Open the given filename and return the workbook\u001b[39;00m\n\u001b[0;32m    291\u001b[0m \n\u001b[0;32m    292\u001b[0m \u001b[38;5;124;03m    :param filename: the path to open or a file-like object\u001b[39;00m\n\u001b[1;32m   (...)\u001b[0m\n\u001b[0;32m    313\u001b[0m \n\u001b[0;32m    314\u001b[0m \u001b[38;5;124;03m    \"\"\"\u001b[39;00m\n\u001b[1;32m--> 315\u001b[0m     reader \u001b[38;5;241m=\u001b[39m ExcelReader(filename, read_only, keep_vba,\n\u001b[0;32m    316\u001b[0m                         data_only, keep_links)\n\u001b[0;32m    317\u001b[0m     reader\u001b[38;5;241m.\u001b[39mread()\n\u001b[0;32m    318\u001b[0m     \u001b[38;5;28;01mreturn\u001b[39;00m reader\u001b[38;5;241m.\u001b[39mwb\n",
      "File \u001b[1;32m~\\anaconda3\\Lib\\site-packages\\openpyxl\\reader\\excel.py:124\u001b[0m, in \u001b[0;36mExcelReader.__init__\u001b[1;34m(self, fn, read_only, keep_vba, data_only, keep_links)\u001b[0m\n\u001b[0;32m    122\u001b[0m \u001b[38;5;28;01mdef\u001b[39;00m \u001b[38;5;21m__init__\u001b[39m(\u001b[38;5;28mself\u001b[39m,  fn, read_only\u001b[38;5;241m=\u001b[39m\u001b[38;5;28;01mFalse\u001b[39;00m, keep_vba\u001b[38;5;241m=\u001b[39mKEEP_VBA,\n\u001b[0;32m    123\u001b[0m               data_only\u001b[38;5;241m=\u001b[39m\u001b[38;5;28;01mFalse\u001b[39;00m, keep_links\u001b[38;5;241m=\u001b[39m\u001b[38;5;28;01mTrue\u001b[39;00m):\n\u001b[1;32m--> 124\u001b[0m     \u001b[38;5;28mself\u001b[39m\u001b[38;5;241m.\u001b[39marchive \u001b[38;5;241m=\u001b[39m _validate_archive(fn)\n\u001b[0;32m    125\u001b[0m     \u001b[38;5;28mself\u001b[39m\u001b[38;5;241m.\u001b[39mvalid_files \u001b[38;5;241m=\u001b[39m \u001b[38;5;28mself\u001b[39m\u001b[38;5;241m.\u001b[39marchive\u001b[38;5;241m.\u001b[39mnamelist()\n\u001b[0;32m    126\u001b[0m     \u001b[38;5;28mself\u001b[39m\u001b[38;5;241m.\u001b[39mread_only \u001b[38;5;241m=\u001b[39m read_only\n",
      "File \u001b[1;32m~\\anaconda3\\Lib\\site-packages\\openpyxl\\reader\\excel.py:94\u001b[0m, in \u001b[0;36m_validate_archive\u001b[1;34m(filename)\u001b[0m\n\u001b[0;32m     88\u001b[0m         \u001b[38;5;28;01melse\u001b[39;00m:\n\u001b[0;32m     89\u001b[0m             msg \u001b[38;5;241m=\u001b[39m (\u001b[38;5;124m'\u001b[39m\u001b[38;5;124mopenpyxl does not support \u001b[39m\u001b[38;5;132;01m%s\u001b[39;00m\u001b[38;5;124m file format, \u001b[39m\u001b[38;5;124m'\u001b[39m\n\u001b[0;32m     90\u001b[0m                    \u001b[38;5;124m'\u001b[39m\u001b[38;5;124mplease check you can open \u001b[39m\u001b[38;5;124m'\u001b[39m\n\u001b[0;32m     91\u001b[0m                    \u001b[38;5;124m'\u001b[39m\u001b[38;5;124mit with Excel first. \u001b[39m\u001b[38;5;124m'\u001b[39m\n\u001b[0;32m     92\u001b[0m                    \u001b[38;5;124m'\u001b[39m\u001b[38;5;124mSupported formats are: \u001b[39m\u001b[38;5;132;01m%s\u001b[39;00m\u001b[38;5;124m'\u001b[39m) \u001b[38;5;241m%\u001b[39m (file_format,\n\u001b[0;32m     93\u001b[0m                                                    \u001b[38;5;124m'\u001b[39m\u001b[38;5;124m,\u001b[39m\u001b[38;5;124m'\u001b[39m\u001b[38;5;241m.\u001b[39mjoin(SUPPORTED_FORMATS))\n\u001b[1;32m---> 94\u001b[0m         \u001b[38;5;28;01mraise\u001b[39;00m InvalidFileException(msg)\n\u001b[0;32m     96\u001b[0m archive \u001b[38;5;241m=\u001b[39m ZipFile(filename, \u001b[38;5;124m'\u001b[39m\u001b[38;5;124mr\u001b[39m\u001b[38;5;124m'\u001b[39m)\n\u001b[0;32m     97\u001b[0m \u001b[38;5;28;01mreturn\u001b[39;00m archive\n",
      "\u001b[1;31mInvalidFileException\u001b[0m: openpyxl does not support  file format, please check you can open it with Excel first. Supported formats are: .xlsx,.xlsm,.xltx,.xltm"
     ]
    }
   ],
   "source": [
    "import os\n",
    "import openpyxl\n",
    "import pandas as pd\n",
    "\n",
    "carpeta_origen = \"ruta\"\n",
    "carpeta_destino = \"ruta\"\n",
    "ruta_excel = \"ruta\"\n",
    "\n",
    "workbook = openpyxl.load_workbook(ruta_excel)\n",
    "hoja_excel = workbook[\"Hoja1\"]\n",
    "\n",
    "df_id = pd.read_excel(ruta_excel)\n",
    "nombre = [str(i) for i in df_id[\"nombre\"]]\n",
    "\n",
    "archivos_pdf = [archivo for archivo in os.listdir(carpeta_origen) if archivo.endswith(\".pdf\")]\n",
    "\n",
    "for i, archivo_pdf in enumerate(archivos_pdf):\n",
    "    ruta_pdf_entrada = os.path.join(carpeta_origen, archivo_pdf)\n",
    "    ruta_pdf_salida = os.path.join(carpeta_destino, f\"{i+1}_{nombre[i]}.pdf\")\n",
    "\n",
    "    os.rename(ruta_pdf_entrada, ruta_pdf_salida)\n",
    "\n",
    "workbook.close()\n",
    "\n",
    "print(\"Documentos Renombrados\")"
   ]
  }
 ],
 "metadata": {
  "kernelspec": {
   "display_name": "Python 3 (ipykernel)",
   "language": "python",
   "name": "python3"
  },
  "language_info": {
   "codemirror_mode": {
    "name": "ipython",
    "version": 3
   },
   "file_extension": ".py",
   "mimetype": "text/x-python",
   "name": "python",
   "nbconvert_exporter": "python",
   "pygments_lexer": "ipython3",
   "version": "3.11.3"
  }
 },
 "nbformat": 4,
 "nbformat_minor": 5
}
